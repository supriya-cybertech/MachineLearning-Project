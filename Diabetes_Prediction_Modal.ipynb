{
  "nbformat": 4,
  "nbformat_minor": 0,
  "metadata": {
    "colab": {
      "provenance": [],
      "include_colab_link": true
    },
    "kernelspec": {
      "name": "python3",
      "display_name": "Python 3"
    }
  },
  "cells": [
    {
      "cell_type": "markdown",
      "metadata": {
        "id": "view-in-github",
        "colab_type": "text"
      },
      "source": [
        "<a href=\"https://colab.research.google.com/github/supriya-cybertech/MachineLearning-Project/blob/main/Diabetes_Prediction_Modal.ipynb\" target=\"_parent\"><img src=\"https://colab.research.google.com/assets/colab-badge.svg\" alt=\"Open In Colab\"/></a>"
      ]
    },
    {
      "cell_type": "markdown",
      "source": [
        "**Own Diabetes Predictive Model**"
      ],
      "metadata": {
        "id": "iHprHjiJjBKb"
      }
    },
    {
      "cell_type": "code",
      "source": [
        "# Load EDA Pkgs\n",
        "import pandas as pd\n",
        "import numpy as np"
      ],
      "metadata": {
        "id": "Sz0VewPxg0DH"
      },
      "execution_count": null,
      "outputs": []
    },
    {
      "cell_type": "code",
      "source": [
        "# Load ML Pkgs\n",
        "from sklearn.linear_model import LogisticRegression\n",
        "from sklearn.neighbors import KNeighborsClassifier\n",
        "from sklearn.model_selection import train_test_split\n",
        "from sklearn.metrics import accuracy_score"
      ],
      "metadata": {
        "id": "MlUl7RWNg_TV"
      },
      "execution_count": null,
      "outputs": []
    },
    {
      "cell_type": "code",
      "source": [
        "# Load Viz Pkgs\n",
        "import matplotlib.pyplot as plt\n",
        "%matplotlib inline\n",
        "import seaborn as sns"
      ],
      "metadata": {
        "id": "cfoTDPxEhWsu"
      },
      "execution_count": null,
      "outputs": []
    },
    {
      "cell_type": "code",
      "source": [
        "names = [\"Num_of_Preg\",\"Glucose_Conc\",\"BP\",\"Skin_Thickness\",\"TwoHour_Insulin\",\"BMI\",\"DM_Pedigree\",\"Age\",\"Class\"]"
      ],
      "metadata": {
        "id": "-tsOM7kUhetM"
      },
      "execution_count": null,
      "outputs": []
    },
    {
      "cell_type": "code",
      "source": [
        "import pandas as pd\n",
        "diabetes_dataset = pd.read_csv('/content/diabetes.csv')\n",
        "diabetes_dataset.head()"
      ],
      "metadata": {
        "id": "tw4zhOsjteP3"
      },
      "execution_count": null,
      "outputs": []
    },
    {
      "cell_type": "code",
      "source": [
        "import pandas as pd\n",
        "\n",
        "# Example: reading a CSV file into a DataFrame\n",
        "df = pd.read_csv(\"/content/diabetes.csv\")\n",
        "\n",
        "# Now this will work\n",
        "print(df.head())"
      ],
      "metadata": {
        "id": "Uix8IL6Qit6x"
      },
      "execution_count": null,
      "outputs": []
    },
    {
      "cell_type": "code",
      "source": [
        "df.shape\n"
      ],
      "metadata": {
        "id": "2LmW1ROYkg9l"
      },
      "execution_count": null,
      "outputs": []
    },
    {
      "cell_type": "code",
      "source": [
        "# Check For Missing Values\n",
        "df.isna().sum()"
      ],
      "metadata": {
        "id": "vB8c_V8-kjJd"
      },
      "execution_count": null,
      "outputs": []
    },
    {
      "cell_type": "code",
      "source": [
        "# Data Types\n",
        "df.dtypes"
      ],
      "metadata": {
        "id": "jc1kv8v0knLb"
      },
      "execution_count": null,
      "outputs": []
    },
    {
      "cell_type": "code",
      "source": [
        "# Check For Occurence of Class\n",
        "print(df.columns.tolist())"
      ],
      "metadata": {
        "id": "TzxpygLzkp4n"
      },
      "execution_count": null,
      "outputs": []
    },
    {
      "cell_type": "code",
      "source": [
        "print(df.columns.tolist())\n",
        "df.columns = df.columns.str.strip()"
      ],
      "metadata": {
        "id": "XoTkm4MckuKp"
      },
      "execution_count": null,
      "outputs": []
    },
    {
      "cell_type": "code",
      "source": [
        "# Check For Correlation Between Xtics/Features\n",
        "corr = df.corr()"
      ],
      "metadata": {
        "id": "Xr5Le9eXkwgH"
      },
      "execution_count": null,
      "outputs": []
    },
    {
      "cell_type": "code",
      "source": [
        "import seaborn as sns\n",
        "import matplotlib.pyplot as plt  # optional, for showing plots\n",
        "\n",
        "# Example: if you already have a DataFrame df\n",
        "corr = df.corr()  # create correlation matrix\n",
        "\n",
        "sns.heatmap(corr, annot=True)\n",
        "plt.show()"
      ],
      "metadata": {
        "id": "K-1Lyu31k1Bq"
      },
      "execution_count": null,
      "outputs": []
    },
    {
      "cell_type": "code",
      "source": [
        "#### Data Viz of Entire Dataset"
      ],
      "metadata": {
        "id": "FrzAcHRwk4hp"
      },
      "execution_count": null,
      "outputs": []
    },
    {
      "cell_type": "code",
      "source": [
        "df.hist(bins=50, figsize=(20, 15))\n",
        "plt.show()"
      ],
      "metadata": {
        "id": "90qvChYGk8nF"
      },
      "execution_count": null,
      "outputs": []
    },
    {
      "cell_type": "code",
      "source": [
        "# Descriptive Analysis Transposed\n",
        "df.describe().T"
      ],
      "metadata": {
        "id": "fOHMGqODk_WX"
      },
      "execution_count": null,
      "outputs": []
    },
    {
      "cell_type": "code",
      "source": [
        "# Remove leading/trailing spaces from column names\n",
        "df.columns = df.columns.str.strip()\n",
        "\n",
        "# Show column names so you can confirm\n",
        "print(\"Columns:\", df.columns.tolist())\n",
        "\n",
        "# Replace with the actual names from your dataset\n",
        "bp_col = 'BloodPressure'  # change if needed\n",
        "bmi_col = 'BMI'           # change if needed\n",
        "\n",
        "# Remove rows where BP or BMI are zero\n",
        "df = df[(df[bp_col] != 0) & (df[bmi_col] != 0)].reset_index(drop=True)\n",
        "\n",
        "print(\"Cleaned data shape:\", df.shape)"
      ],
      "metadata": {
        "id": "_K6bzECwlEE7"
      },
      "execution_count": null,
      "outputs": []
    },
    {
      "cell_type": "code",
      "source": [
        "# Clean column names\n",
        "df.columns = df.columns.str.strip()\n",
        "\n",
        "# Check actual names\n",
        "print(df.columns.tolist())\n",
        "\n",
        "# Replace with the correct BP column name\n",
        "df['BloodPressure'].min()\n"
      ],
      "metadata": {
        "id": "EaZLfo5tlJno"
      },
      "execution_count": null,
      "outputs": []
    },
    {
      "cell_type": "code",
      "source": [
        "# Checking For Minimum BMI\n",
        "df['BMI'].min()"
      ],
      "metadata": {
        "id": "_36d7EtflNUH"
      },
      "execution_count": null,
      "outputs": []
    },
    {
      "cell_type": "code",
      "source": [
        "# Clean column names\n",
        "df.columns = df.columns.str.strip()\n",
        "\n",
        "# Try common BP column names\n",
        "for col in ['BP', 'BloodPressure', 'Blood_Pressure', 'Blood Pressure']:\n",
        "    if col in df.columns:\n",
        "        df[col] = df[col].replace(0, df[col].median())\n",
        "        print(f\"Replaced 0 with median in column: {col}\")\n",
        "        break\n",
        "else:\n",
        "    print(\"BP column not found. Available columns:\", df.columns.tolist())"
      ],
      "metadata": {
        "id": "3VMj7pAhlQvF"
      },
      "execution_count": null,
      "outputs": []
    },
    {
      "cell_type": "code",
      "source": [
        "# Replace 0 with Median not Mean\n",
        "df['BMI'] = df['BMI'].replace(to_replace=0,value=df['BMI'].median())"
      ],
      "metadata": {
        "id": "thb0SivLlWOn"
      },
      "execution_count": null,
      "outputs": []
    },
    {
      "cell_type": "code",
      "source": [
        "df.columns = df.columns.str.strip()\n",
        "\n",
        "# Try common insulin column names\n",
        "for col in ['TwoHour_Insulin', 'TwoHourInsulin', '2HourInsulin', 'Insulin']:\n",
        "    if col in df.columns:\n",
        "        print(f\"Minimum value in {col}:\", df[col].min())\n",
        "        break\n",
        "else:\n",
        "    print(\"Insulin column not found. Available columns:\", df.columns.tolist())"
      ],
      "metadata": {
        "id": "kJuZYdvmlZFs"
      },
      "execution_count": null,
      "outputs": []
    },
    {
      "cell_type": "code",
      "source": [
        "df.columns = df.columns.str.strip()\n",
        "\n",
        "# Try common insulin column names\n",
        "for col in ['TwoHour_Insulin', 'TwoHourInsulin', '2HourInsulin', 'Insulin']:\n",
        "    if col in df.columns:\n",
        "        df[col] = df[col].fillna(df[col].median())\n",
        "        print(f\"Filled NaN in {col} with median value.\")\n",
        "        break\n",
        "else:\n",
        "    print(\"Insulin column not found. Available columns:\", df.columns.tolist())"
      ],
      "metadata": {
        "id": "0PJKIocTlbeV"
      },
      "execution_count": null,
      "outputs": []
    },
    {
      "cell_type": "code",
      "source": [
        "df.hist(bins=50, figsize=(20, 15))\n",
        "plt.show()"
      ],
      "metadata": {
        "id": "lofjsRC3lrob"
      },
      "execution_count": null,
      "outputs": []
    },
    {
      "cell_type": "code",
      "source": [
        "# Checking For Null Values or NO\n",
        "import missingno as no"
      ],
      "metadata": {
        "id": "HwLyyLe_luwM"
      },
      "execution_count": null,
      "outputs": []
    },
    {
      "cell_type": "code",
      "source": [
        "no.bar(df)"
      ],
      "metadata": {
        "id": "FGqt1hAqlyKl"
      },
      "execution_count": null,
      "outputs": []
    },
    {
      "cell_type": "code",
      "source": [
        "df.columns"
      ],
      "metadata": {
        "id": "7lSX1sM0l1_-"
      },
      "execution_count": null,
      "outputs": []
    },
    {
      "cell_type": "code",
      "source": [
        "df.shape"
      ],
      "metadata": {
        "id": "_YeV9LLEl5Dj"
      },
      "execution_count": null,
      "outputs": []
    },
    {
      "cell_type": "code",
      "source": [
        "df.iloc[:,0:8]"
      ],
      "metadata": {
        "id": "sOohD6nfl8Kc"
      },
      "execution_count": null,
      "outputs": []
    },
    {
      "cell_type": "code",
      "source": [
        "Xfeatures = df.iloc[:,0:8]"
      ],
      "metadata": {
        "id": "Irqiv8P9l-rE"
      },
      "execution_count": null,
      "outputs": []
    },
    {
      "cell_type": "code",
      "source": [
        "df.columns = df.columns.str.strip()\n",
        "\n",
        "for col in ['Class', 'class', 'Outcome', 'Target', 'Label']:\n",
        "    if col in df.columns:\n",
        "        Ylabels = df[col]\n",
        "        print(f\"Ylabels set from column: {col}\")\n",
        "        break\n",
        "else:\n",
        "    print(\"Target column not found. Available columns:\", df.columns.tolist())"
      ],
      "metadata": {
        "id": "MVSoheN4mDaD"
      },
      "execution_count": null,
      "outputs": []
    },
    {
      "cell_type": "code",
      "source": [
        "from sklearn.preprocessing import MinMaxScaler as Scaler"
      ],
      "metadata": {
        "id": "9gSlB4iPmGae"
      },
      "execution_count": null,
      "outputs": []
    },
    {
      "cell_type": "code",
      "source": [
        "scaler = Scaler()\n",
        "X = scaler.fit_transform(Xfeatures)"
      ],
      "metadata": {
        "id": "-6bD7Fa2mJce"
      },
      "execution_count": null,
      "outputs": []
    },
    {
      "cell_type": "code",
      "source": [
        "X.shape"
      ],
      "metadata": {
        "id": "nSH0uPiJmL-u"
      },
      "execution_count": null,
      "outputs": []
    },
    {
      "cell_type": "code",
      "source": [
        "# Example: defining a list\n",
        "names = [\"Alice\", \"Bob\", \"Charlie\", \"David\", \"Eve\", \"Frank\", \"Grace\", \"Hannah\", \"Ivy\", \"Jack\"]\n",
        "\n",
        "# Now slicing works\n",
        "print(names[0:8])"
      ],
      "metadata": {
        "id": "ey-DJSDimO36"
      },
      "execution_count": null,
      "outputs": []
    },
    {
      "cell_type": "code",
      "source": [
        "X = pd.DataFrame(X,columns=names[0:8])"
      ],
      "metadata": {
        "id": "_Im35yVBmT2W"
      },
      "execution_count": null,
      "outputs": []
    },
    {
      "cell_type": "code",
      "source": [
        "X.head()"
      ],
      "metadata": {
        "id": "eFz6R8LdmU5v"
      },
      "execution_count": null,
      "outputs": []
    },
    {
      "cell_type": "code",
      "source": [
        "# Import the function\n",
        "from sklearn.model_selection import train_test_split\n",
        "\n",
        "# Split the data\n",
        "X_train, X_test, y_train, y_test = train_test_split(\n",
        "    X, Ylabels, test_size=0.2, random_state=42\n",
        ")"
      ],
      "metadata": {
        "id": "PpOgJLzamXSa"
      },
      "execution_count": null,
      "outputs": []
    },
    {
      "cell_type": "code",
      "source": [
        "X_train.shape"
      ],
      "metadata": {
        "id": "BswsUgpmmeoB"
      },
      "execution_count": null,
      "outputs": []
    },
    {
      "cell_type": "code",
      "source": [
        "# Import LogisticRegression\n",
        "from sklearn.linear_model import LogisticRegression\n",
        "\n",
        "# Create and fit the model\n",
        "logit = LogisticRegression()\n",
        "logit.fit(X_train, y_train)"
      ],
      "metadata": {
        "id": "pxJWJOuwmjGq"
      },
      "execution_count": null,
      "outputs": []
    },
    {
      "cell_type": "code",
      "source": [
        "print(\"Accuracy Score of Logisitic::\",logit.score(X_test,y_test))"
      ],
      "metadata": {
        "id": "XRDpj1kYmmTz"
      },
      "execution_count": null,
      "outputs": []
    },
    {
      "cell_type": "code",
      "source": [
        "X_test.values[0]"
      ],
      "metadata": {
        "id": "B-tn0Q26mp_P"
      },
      "execution_count": null,
      "outputs": []
    },
    {
      "cell_type": "code",
      "source": [
        "import numpy as np\n",
        "# Prediction on A Single Sample\n",
        "logit.predict(np.array(X_test.values[0]).reshape(1,-1))"
      ],
      "metadata": {
        "id": "pV1ReXORmst6"
      },
      "execution_count": null,
      "outputs": []
    },
    {
      "cell_type": "code",
      "source": [
        "# Load ML Interpreting Models\n",
        "import shap"
      ],
      "metadata": {
        "id": "Xc32W45DmyAg"
      },
      "execution_count": null,
      "outputs": []
    },
    {
      "cell_type": "code",
      "source": [
        "# Initialize JS For Plot\n",
        "shap.initjs()"
      ],
      "metadata": {
        "id": "KQRFVoCgmzQf"
      },
      "execution_count": null,
      "outputs": []
    },
    {
      "cell_type": "code",
      "source": [
        "explainer = shap.KernelExplainer(logit.predict_proba, X_train)"
      ],
      "metadata": {
        "id": "Cj59zZQJm2IV"
      },
      "execution_count": null,
      "outputs": []
    },
    {
      "cell_type": "code",
      "source": [
        "shap_values = explainer.shap_values(X_test)"
      ],
      "metadata": {
        "id": "U8bpsOVom4ze"
      },
      "execution_count": null,
      "outputs": []
    },
    {
      "cell_type": "code",
      "source": [
        "import shap\n",
        "import numpy as np\n",
        "\n",
        "# Check shapes and types\n",
        "print(\"Expected value:\", explainer.expected_value)\n",
        "print(\"Type:\", type(explainer.expected_value))\n",
        "print(\"SHAP values shape:\", np.array(shap_values).shape)\n"
      ],
      "metadata": {
        "id": "t4gA3HMlm7eK"
      },
      "execution_count": null,
      "outputs": []
    },
    {
      "cell_type": "code",
      "source": [
        "shap.summary_plot(shap_values,X_test)"
      ],
      "metadata": {
        "id": "cfsrYvL3nGHx"
      },
      "execution_count": null,
      "outputs": []
    },
    {
      "cell_type": "code",
      "source": [
        "import shap\n",
        "import numpy as np\n",
        "\n",
        "# Check shapes\n",
        "print(\"Type of shap_values:\", type(shap_values))\n",
        "print(\"Shape of shap_values as array:\", np.array(shap_values).shape)\n"
      ],
      "metadata": {
        "id": "6mBeFg0KnMqz"
      },
      "execution_count": null,
      "outputs": []
    },
    {
      "cell_type": "code",
      "source": [
        "Ylabels.unique()"
      ],
      "metadata": {
        "id": "TFSSIlAdnU17"
      },
      "execution_count": null,
      "outputs": []
    },
    {
      "cell_type": "code",
      "source": [
        "class_names = ['Non Diabetes','Diabetes']"
      ],
      "metadata": {
        "id": "QrX1QpVLnXYx"
      },
      "execution_count": null,
      "outputs": []
    },
    {
      "cell_type": "code",
      "source": [
        "df.columns"
      ],
      "metadata": {
        "id": "RcSgVlX-naUv"
      },
      "execution_count": null,
      "outputs": []
    },
    {
      "cell_type": "code",
      "source": [
        "feature_names = ['Num_of_Preg', 'Glucose_Conc', 'BP', 'Skin_Thickness',\n",
        "       'TwoHour_Insulin', 'BMI', 'DM_Pedigree', 'Age']"
      ],
      "metadata": {
        "id": "M2j8li1Ancm0"
      },
      "execution_count": null,
      "outputs": []
    },
    {
      "cell_type": "code",
      "source": [
        "# Sample We Predicted\n",
        "X_test.iloc[0]"
      ],
      "metadata": {
        "id": "VF_ID5G1nj95"
      },
      "execution_count": null,
      "outputs": []
    },
    {
      "cell_type": "code",
      "source": [
        "from sklearn.linear_model import LogisticRegression\n",
        "\n",
        "# Example: train a logistic regression model\n",
        "classifier = LogisticRegression()\n",
        "classifier.fit(X_train, y_train)"
      ],
      "metadata": {
        "id": "1Q1WPu4xSY7c"
      },
      "execution_count": null,
      "outputs": []
    },
    {
      "cell_type": "code",
      "source": [
        "import pandas as pd\n",
        "import numpy as np\n",
        "\n",
        "# Exact same order and names as training\n",
        "feature_names = ['Pregnancies', 'Glucose', 'BloodPressure', 'SkinThickness',\n",
        "                 'Insulin', 'BMI', 'DiabetesPedigreeFunction', 'Age']\n",
        "\n",
        "# Example input (must match number of features)\n",
        "input_data = (5, 166, 72, 19, 175, 25, 0.587, 51)\n",
        "\n",
        "# Create DataFrame with same structure\n",
        "input_df = pd.DataFrame([input_data], columns=feature_names)\n",
        "\n",
        "# Transform and predict\n",
        "std_data = scaler.transform(input_df)\n",
        "prediction = classifier.predict(std_data)\n",
        "print(prediction)\n",
        "\n",
        "print(scaler.feature_names_in_)\n",
        "\n",
        "# Human-readable output\n",
        "if prediction[0] == 1:\n",
        "    print(\"The person is diabetic\")\n",
        "else:\n",
        "    print(\"The person is non-diabetic\")"
      ],
      "metadata": {
        "id": "4FFkMmOkq8PE"
      },
      "execution_count": null,
      "outputs": []
    }
  ]
}